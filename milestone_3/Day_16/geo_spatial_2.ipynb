{
 "cells": [
  {
   "cell_type": "code",
   "execution_count": null,
   "id": "f8b7f3cf",
   "metadata": {},
   "outputs": [],
   "source": [
    "import pandas as pd\n",
    "import plotly.express as px\n",
    "import streamlit as st"
   ]
  },
  {
   "cell_type": "code",
   "execution_count": null,
   "id": "c9a8458e",
   "metadata": {},
   "outputs": [],
   "source": [
    "# Load dataset (assume CSV in working directory)\n",
    "dataset_path = \"/content/drive/MyDrive/data/US_Accidents_March23.csv\"\n",
    "df = pd.read_csv(dataset_path)"
   ]
  },
  {
   "cell_type": "code",
   "execution_count": null,
   "id": "d4eaadfe",
   "metadata": {},
   "outputs": [],
   "source": [
    "def plot_accidents_sampled(df, location_col = 'State', sample_size=300000):\n",
    "  counts = df[location_col].value_counts().head(5)\n",
    "  top5_locations = counts.index.tolist()\n",
    "  df['is_top5'] = df[location_col].isin(top5_locations)\n",
    "\n",
    "  #Sample data to reduce size\n",
    "  if len(df) > sample_size:\n",
    "    df_sample = df.sample(sample_size, random_state=42)\n",
    "  else:\n",
    "    df_sample = df\n",
    "  \n",
    "  fig = px.scatter( \n",
    "      df = df_sample,\n",
    "      x='Start_Lng',\n",
    "      y= 'Start_Lat',\n",
    "      color='is_top5',\n",
    "      labels = {'Start_Lng': 'Longitude', 'Start_Lat': 'Latitude', 'is_top5': 'Top 5 Accident-Prone'},\n",
    "      title = f\"Accident Scatter Plot Highlighting Top 5 {location_col}s\",\n",
    "      opacity = 0.6,\n",
    "      hover_data = [location_col]\n",
    "  )\n",
    "  st.plotly_chart(fig)\n",
    "st.title('Accident Data Visualization')\n",
    "\n",
    "location_options = st.selectbox(\"Select Location Type\", ['State', 'City'])\n",
    "plot_accidents_sampled(df, location_col=location_options)\n"
   ]
  },
  {
   "cell_type": "markdown",
   "id": "3bf0c715",
   "metadata": {},
   "source": [
    "### Hypothesis Testing\n",
    "1. What time of day has the most accidents?\n",
    "2. Are accidents more severe during rain or fog?\n",
    "3. Is there a correlation between visibility and severity?"
   ]
  }
 ],
 "metadata": {
  "kernelspec": {
   "display_name": "Python 3",
   "language": "python",
   "name": "python3"
  },
  "language_info": {
   "name": "python",
   "version": "3.11.9"
  }
 },
 "nbformat": 4,
 "nbformat_minor": 5
}
