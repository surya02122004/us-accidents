{
 "cells": [
  {
   "cell_type": "markdown",
   "id": "c6271127",
   "metadata": {},
   "source": [
    "1. **Download and Install GitHub CLI**\n",
    "\n",
    "- Visit the official GitHub CLI website: https://cli.github.com/\n",
    "- Download the installer for Windows (.msi) or Mac (.pkg).\n",
    "- Follow installation prompts.\n",
    "- Verify installation:"
   ]
  },
  {
   "cell_type": "code",
   "execution_count": null,
   "id": "f2afd826",
   "metadata": {
    "vscode": {
     "languageId": "shellscript"
    }
   },
   "outputs": [],
   "source": [
    "gh --version"
   ]
  },
  {
   "cell_type": "markdown",
   "id": "3cced090",
   "metadata": {},
   "source": [
    "2. **Authenticate with GitHub**"
   ]
  },
  {
   "cell_type": "code",
   "execution_count": null,
   "id": "424ac2a4",
   "metadata": {
    "vscode": {
     "languageId": "shellscript"
    }
   },
   "outputs": [],
   "source": [
    "gh auth login"
   ]
  },
  {
   "cell_type": "markdown",
   "id": "8b54d092",
   "metadata": {},
   "source": [
    "- Select **GitHub.com**\n",
    "- Choose **HTTPS**\n",
    "- Pick **Login with a web browser**\n",
    "- Follow on-screen authentication prompts\n",
    "- Confirm current login:"
   ]
  },
  {
   "cell_type": "markdown",
   "id": "ef71c650",
   "metadata": {},
   "source": [
    "3. **Switch Between Multiple GitHub Accounts**\n",
    "\n",
    "If logged in to multiple accounts, switch with:"
   ]
  },
  {
   "cell_type": "code",
   "execution_count": null,
   "id": "511b8388",
   "metadata": {
    "vscode": {
     "languageId": "shellscript"
    }
   },
   "outputs": [],
   "source": [
    "gh auth switch --user <username>"
   ]
  },
  {
   "cell_type": "markdown",
   "id": "66a575dd",
   "metadata": {},
   "source": [
    "Or interactively:"
   ]
  },
  {
   "cell_type": "code",
   "execution_count": null,
   "id": "cc1aa0b8",
   "metadata": {
    "vscode": {
     "languageId": "shellscript"
    }
   },
   "outputs": [],
   "source": [
    "gh auth switch"
   ]
  },
  {
   "cell_type": "markdown",
   "id": "7e0a7426",
   "metadata": {},
   "source": [
    "Verify active account:"
   ]
  },
  {
   "cell_type": "code",
   "execution_count": null,
   "id": "5a2ff37f",
   "metadata": {
    "vscode": {
     "languageId": "shellscript"
    }
   },
   "outputs": [],
   "source": [
    "gh auth status"
   ]
  },
  {
   "cell_type": "markdown",
   "id": "79e19f09",
   "metadata": {},
   "source": [
    "4. **Initialize a New Git Repository (`git init`)**\n",
    "\n",
    "- Navigate to an existing project folder or create one:"
   ]
  },
  {
   "cell_type": "code",
   "execution_count": null,
   "id": "2e791bfc",
   "metadata": {
    "vscode": {
     "languageId": "shellscript"
    }
   },
   "outputs": [],
   "source": [
    "mkdir my-local-repo\n",
    "cd my-local-repo"
   ]
  },
  {
   "cell_type": "markdown",
   "id": "e6feb127",
   "metadata": {},
   "source": [
    "- Initialize the folder as a Git repository:"
   ]
  },
  {
   "cell_type": "code",
   "execution_count": null,
   "id": "765e87ce",
   "metadata": {
    "vscode": {
     "languageId": "shellscript"
    }
   },
   "outputs": [],
   "source": [
    "git init"
   ]
  },
  {
   "cell_type": "markdown",
   "id": "aeff1d2c",
   "metadata": {},
   "source": [
    "This creates a hidden `.git/` directory to track version history, enabling Git commands.\n",
    "*Use `git init` when starting a local project not yet under version control.*"
   ]
  },
  {
   "cell_type": "markdown",
   "id": "ba3e9ef7",
   "metadata": {},
   "source": [
    "5. **Create or Clone Repository**\n",
    "\n",
    "- To create a new remote GitHub repo and link it:"
   ]
  },
  {
   "cell_type": "code",
   "execution_count": null,
   "id": "7e83eb3b",
   "metadata": {
    "vscode": {
     "languageId": "shellscript"
    }
   },
   "outputs": [],
   "source": [
    "gh repo create my-repo-name --public"
   ]
  },
  {
   "cell_type": "markdown",
   "id": "e441356d",
   "metadata": {},
   "source": [
    "- Or clone existing repo:"
   ]
  },
  {
   "cell_type": "code",
   "execution_count": null,
   "id": "1d7c045e",
   "metadata": {
    "vscode": {
     "languageId": "shellscript"
    }
   },
   "outputs": [],
   "source": [
    "gh repo clone username/repo-name\n",
    "cd repo-name"
   ]
  },
  {
   "cell_type": "markdown",
   "id": "3466a9fa",
   "metadata": {},
   "source": [
    "- To connect `git init` local repo with a remote:"
   ]
  },
  {
   "cell_type": "code",
   "execution_count": null,
   "id": "4349af1f",
   "metadata": {
    "vscode": {
     "languageId": "shellscript"
    }
   },
   "outputs": [],
   "source": [
    "git remote add origin <repository_url>\n",
    "git push -u origin main"
   ]
  },
  {
   "cell_type": "markdown",
   "id": "77c3830d",
   "metadata": {},
   "source": [
    "6. **Configure Git Identity**"
   ]
  },
  {
   "cell_type": "code",
   "execution_count": null,
   "id": "ec54d513",
   "metadata": {
    "vscode": {
     "languageId": "shellscript"
    }
   },
   "outputs": [],
   "source": [
    "git config --global user.name \"Your Name\"\n",
    "git config --global user.email \"[email protected]\""
   ]
  },
  {
   "cell_type": "markdown",
   "id": "4127286d",
   "metadata": {},
   "source": [
    "7. **Create a New Branch**"
   ]
  },
  {
   "cell_type": "code",
   "execution_count": null,
   "id": "77564c6e",
   "metadata": {
    "vscode": {
     "languageId": "shellscript"
    }
   },
   "outputs": [],
   "source": [
    "git checkout -b feature-branch"
   ]
  },
  {
   "cell_type": "markdown",
   "id": "63340a76",
   "metadata": {},
   "source": [
    "8. **Make and Commit Changes**\n",
    "\n",
    "Stage your changes:"
   ]
  },
  {
   "cell_type": "code",
   "execution_count": null,
   "id": "62338d8b",
   "metadata": {
    "vscode": {
     "languageId": "shellscript"
    }
   },
   "outputs": [],
   "source": [
    "git add ."
   ]
  },
  {
   "cell_type": "markdown",
   "id": "891aa77c",
   "metadata": {},
   "source": [
    "Commit with a message:"
   ]
  },
  {
   "cell_type": "code",
   "execution_count": null,
   "id": "db582ed3",
   "metadata": {
    "vscode": {
     "languageId": "shellscript"
    }
   },
   "outputs": [],
   "source": [
    "git commit -m \"Add feature implementation\""
   ]
  },
  {
   "cell_type": "markdown",
   "id": "e5c3e817",
   "metadata": {},
   "source": [
    "9. **Edit Commit Message**\n",
    "\n",
    "To revise the last commit message before pushing:"
   ]
  },
  {
   "cell_type": "code",
   "execution_count": null,
   "id": "95fdbb00",
   "metadata": {
    "vscode": {
     "languageId": "shellscript"
    }
   },
   "outputs": [],
   "source": [
    "git commit --amend -m \"Updated commit message\""
   ]
  },
  {
   "cell_type": "markdown",
   "id": "91e0c8cc",
   "metadata": {},
   "source": [
    "For modifying multiple commits use interactive rebase:"
   ]
  },
  {
   "cell_type": "code",
   "execution_count": null,
   "id": "2d52b8db",
   "metadata": {
    "vscode": {
     "languageId": "shellscript"
    }
   },
   "outputs": [],
   "source": [
    "git rebase -i HEAD~n"
   ]
  },
  {
   "cell_type": "markdown",
   "id": "df81effa",
   "metadata": {},
   "source": [
    "Where `n` is the number of recent commits to edit."
   ]
  },
  {
   "cell_type": "markdown",
   "id": "f773d996",
   "metadata": {},
   "source": [
    "10. **Synchronize Your Local Branch with Remote**\n",
    "\n",
    "Pull and merge remote changes:"
   ]
  },
  {
   "cell_type": "code",
   "execution_count": null,
   "id": "ec629d8b",
   "metadata": {
    "vscode": {
     "languageId": "shellscript"
    }
   },
   "outputs": [],
   "source": [
    "git pull origin feature-branch"
   ]
  },
  {
   "cell_type": "markdown",
   "id": "92b6ee89",
   "metadata": {},
   "source": [
    "Or rebase for cleaner history:"
   ]
  },
  {
   "cell_type": "code",
   "execution_count": null,
   "id": "c04eb641",
   "metadata": {
    "vscode": {
     "languageId": "shellscript"
    }
   },
   "outputs": [],
   "source": [
    "git pull --rebase origin feature-branch"
   ]
  },
  {
   "cell_type": "markdown",
   "id": "d1a0e066",
   "metadata": {},
   "source": [
    "11. **Push Branch to GitHub**"
   ]
  },
  {
   "cell_type": "code",
   "execution_count": null,
   "id": "902a367d",
   "metadata": {
    "vscode": {
     "languageId": "shellscript"
    }
   },
   "outputs": [],
   "source": [
    "git push -u origin feature-branch"
   ]
  },
  {
   "cell_type": "markdown",
   "id": "519c1095",
   "metadata": {},
   "source": [
    "12. **Create a Pull Request via CLI**"
   ]
  },
  {
   "cell_type": "code",
   "execution_count": null,
   "id": "a0e2e7fb",
   "metadata": {
    "vscode": {
     "languageId": "shellscript"
    }
   },
   "outputs": [],
   "source": [
    "gh pr create --title \"Feature: Add New Implementation\" --body \"Details about the feature.\""
   ]
  },
  {
   "cell_type": "markdown",
   "id": "787fdf38",
   "metadata": {},
   "source": [
    "13. **Keep Branch Up to Date**\n",
    "\n",
    "Fetch and merge or rebase main branch updates:"
   ]
  },
  {
   "cell_type": "code",
   "execution_count": null,
   "id": "32e50418",
   "metadata": {
    "vscode": {
     "languageId": "shellscript"
    }
   },
   "outputs": [],
   "source": [
    "git fetch origin\n",
    "git merge origin/main\n",
    "# or\n",
    "git rebase origin/main"
   ]
  },
  {
   "cell_type": "markdown",
   "id": "9bc3e980",
   "metadata": {},
   "source": [
    "14. **Approve and Merge Pull Request**"
   ]
  },
  {
   "cell_type": "code",
   "execution_count": null,
   "id": "0024d05f",
   "metadata": {
    "vscode": {
     "languageId": "shellscript"
    }
   },
   "outputs": [],
   "source": [
    "gh pr merge --merge"
   ]
  },
  {
   "cell_type": "markdown",
   "id": "cc279234",
   "metadata": {},
   "source": [
    "15. **Delete Old Branch (Optional)**\n",
    "\n",
    "Delete local branch:"
   ]
  },
  {
   "cell_type": "code",
   "execution_count": null,
   "id": "2f477b39",
   "metadata": {
    "vscode": {
     "languageId": "shellscript"
    }
   },
   "outputs": [],
   "source": [
    "git branch -d feature-branch"
   ]
  },
  {
   "cell_type": "markdown",
   "id": "ef7e60a1",
   "metadata": {},
   "source": [
    "Delete remote branch:"
   ]
  },
  {
   "cell_type": "code",
   "execution_count": null,
   "id": "91a8feed",
   "metadata": {
    "vscode": {
     "languageId": "shellscript"
    }
   },
   "outputs": [],
   "source": [
    "git push origin --delete feature-branch"
   ]
  },
  {
   "cell_type": "markdown",
   "id": "d344076e",
   "metadata": {},
   "source": [
    "### Summary Table Including `git init` and New Commands\n",
    "\n",
    "| Step | Command/Action | Purpose |\n",
    "| :-- | :-- | :-- |\n",
    "| 1 | Download \\& install `gh` from https://cli.github.com/ | Install GitHub CLI |\n",
    "| 2 | `gh auth login` | Authenticate GitHub account |\n",
    "| 3 | `gh auth switch --user <username>` | Switch multiple GitHub accounts |\n",
    "| 4 | `git init` | Initialize local Git repo |\n",
    "| 5 | `gh repo create` or `gh repo clone` + `git remote add origin` (if needed) | Create/clone remote repo |\n",
    "| 6 | `git config --global user.name/email` | Set commit identity |\n",
    "| 7 | `git checkout -b branch-name` | Create new branch |\n",
    "| 8 | `git add` + `git commit` | Stage and commit changes |\n",
    "| 9 | `git commit --amend` or `git rebase -i` | Edit commit message(s) |\n",
    "| 10 | `git pull origin branch` (or `--rebase`) | Sync remote changes |\n",
    "| 11 | `git push -u origin branch` | Push branch to remote |\n",
    "| 12 | `gh pr create` | Create pull request |\n",
    "| 13 | `git fetch` + `merge` or `rebase` | Keep branch updated |\n",
    "| 14 | `gh pr merge` | Merge pull request |\n",
    "| 15 | `git branch -d` + `git push --delete` | Clean up branches |\n"
   ]
  }
 ],
 "metadata": {
  "kernelspec": {
   "display_name": "Python 3",
   "language": "python",
   "name": "python3"
  },
  "language_info": {
   "codemirror_mode": {
    "name": "ipython",
    "version": 3
   },
   "file_extension": ".py",
   "mimetype": "text/x-python",
   "name": "python",
   "nbconvert_exporter": "python",
   "pygments_lexer": "ipython3",
   "version": "3.11.9"
  }
 },
 "nbformat": 4,
 "nbformat_minor": 5
}
