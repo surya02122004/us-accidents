{
 "cells": [
  {
   "cell_type": "code",
   "execution_count": 26,
   "id": "628328b8",
   "metadata": {},
   "outputs": [],
   "source": [
    "import pandas as pd"
   ]
  },
  {
   "cell_type": "code",
   "execution_count": 4,
   "id": "e0c06d3f",
   "metadata": {},
   "outputs": [
    {
     "name": "stdout",
     "output_type": "stream",
     "text": [
      "c:\\Program Files\\Python313\\python.exe\n"
     ]
    }
   ],
   "source": [
    "import sys\n",
    "print(sys.executable)\n"
   ]
  },
  {
   "cell_type": "code",
   "execution_count": 7,
   "id": "4686408d",
   "metadata": {},
   "outputs": [],
   "source": [
    "import pandas as pd"
   ]
  },
  {
   "cell_type": "code",
   "execution_count": 8,
   "id": "41b1ba2d",
   "metadata": {},
   "outputs": [
    {
     "name": "stdout",
     "output_type": "stream",
     "text": [
      "<class 'pandas.core.frame.DataFrame'>\n",
      "RangeIndex: 100 entries, 0 to 99\n",
      "Data columns (total 46 columns):\n",
      " #   Column                 Non-Null Count  Dtype  \n",
      "---  ------                 --------------  -----  \n",
      " 0   ID                     100 non-null    object \n",
      " 1   Source                 100 non-null    object \n",
      " 2   Severity               100 non-null    int64  \n",
      " 3   Start_Time             100 non-null    object \n",
      " 4   End_Time               100 non-null    object \n",
      " 5   Start_Lat              100 non-null    float64\n",
      " 6   Start_Lng              100 non-null    float64\n",
      " 7   End_Lat                0 non-null      float64\n",
      " 8   End_Lng                0 non-null      float64\n",
      " 9   Distance(mi)           100 non-null    float64\n",
      " 10  Description            100 non-null    object \n",
      " 11  Street                 100 non-null    object \n",
      " 12  City                   100 non-null    object \n",
      " 13  County                 100 non-null    object \n",
      " 14  State                  100 non-null    object \n",
      " 15  Zipcode                100 non-null    object \n",
      " 16  Country                100 non-null    object \n",
      " 17  Timezone               100 non-null    object \n",
      " 18  Airport_Code           100 non-null    object \n",
      " 19  Weather_Timestamp      100 non-null    object \n",
      " 20  Temperature(F)         100 non-null    float64\n",
      " 21  Wind_Chill(F)          90 non-null     float64\n",
      " 22  Humidity(%)            100 non-null    float64\n",
      " 23  Pressure(in)           100 non-null    float64\n",
      " 24  Visibility(mi)         100 non-null    float64\n",
      " 25  Wind_Direction         100 non-null    object \n",
      " 26  Wind_Speed(mph)        94 non-null     float64\n",
      " 27  Precipitation(in)      56 non-null     float64\n",
      " 28  Weather_Condition      100 non-null    object \n",
      " 29  Amenity                100 non-null    bool   \n",
      " 30  Bump                   100 non-null    bool   \n",
      " 31  Crossing               100 non-null    bool   \n",
      " 32  Give_Way               100 non-null    bool   \n",
      " 33  Junction               100 non-null    bool   \n",
      " 34  No_Exit                100 non-null    bool   \n",
      " 35  Railway                100 non-null    bool   \n",
      " 36  Roundabout             100 non-null    bool   \n",
      " 37  Station                100 non-null    bool   \n",
      " 38  Stop                   100 non-null    bool   \n",
      " 39  Traffic_Calming        100 non-null    bool   \n",
      " 40  Traffic_Signal         100 non-null    bool   \n",
      " 41  Turning_Loop           100 non-null    bool   \n",
      " 42  Sunrise_Sunset         100 non-null    object \n",
      " 43  Civil_Twilight         100 non-null    object \n",
      " 44  Nautical_Twilight      100 non-null    object \n",
      " 45  Astronomical_Twilight  100 non-null    object \n",
      "dtypes: bool(13), float64(12), int64(1), object(20)\n",
      "memory usage: 27.2+ KB\n",
      "None\n"
     ]
    }
   ],
   "source": [
    "DATA_PATH = r\"C:\\Users\\nsri3\\Downloads\\archive\\US_Accidents_March23.csv\"\n",
    "df_sample = pd.read_csv(DATA_PATH, nrows=100)\n",
    "print(df_sample.info())"
   ]
  },
  {
   "cell_type": "code",
   "execution_count": 10,
   "id": "11e36ccd",
   "metadata": {},
   "outputs": [
    {
     "name": "stdout",
     "output_type": "stream",
     "text": [
      "UNIQES VALUES\n",
      "In city: 31\n",
      "In State: 1\n",
      "In Weather_Condition: 9\n"
     ]
    }
   ],
   "source": [
    "# 1st Question:How many unique values are there in categorical columns like City, State, and Weather_Condition? \n",
    "# Which category is the most frequent in each?\n",
    "City=df_sample[\"City\"].unique()\n",
    "State=df_sample[\"State\"].unique()\n",
    "Weather_Condition=df_sample[\"Weather_Condition\"].unique()\n",
    "print(\"UNIQES VALUES\")\n",
    "print(\"In city:\",len(City))\n",
    "print(\"In State:\",len(State))\n",
    "print(\"In Weather_Condition:\",len(Weather_Condition))"
   ]
  },
  {
   "cell_type": "code",
   "execution_count": 17,
   "id": "57e48bea",
   "metadata": {},
   "outputs": [
    {
     "name": "stdout",
     "output_type": "stream",
     "text": [
      "Percentage of missing values per column:\n",
      "ID                         0.0\n",
      "Source                     0.0\n",
      "Severity                   0.0\n",
      "Start_Time                 0.0\n",
      "End_Time                   0.0\n",
      "Start_Lat                  0.0\n",
      "Start_Lng                  0.0\n",
      "End_Lat                  100.0\n",
      "End_Lng                  100.0\n",
      "Distance(mi)               0.0\n",
      "Description                0.0\n",
      "Street                     0.0\n",
      "City                       0.0\n",
      "County                     0.0\n",
      "State                      0.0\n",
      "Zipcode                    0.0\n",
      "Country                    0.0\n",
      "Timezone                   0.0\n",
      "Airport_Code               0.0\n",
      "Weather_Timestamp          0.0\n",
      "Temperature(F)             0.0\n",
      "Wind_Chill(F)             10.0\n",
      "Humidity(%)                0.0\n",
      "Pressure(in)               0.0\n",
      "Visibility(mi)             0.0\n",
      "Wind_Direction             0.0\n",
      "Wind_Speed(mph)            6.0\n",
      "Precipitation(in)         44.0\n",
      "Weather_Condition          0.0\n",
      "Amenity                    0.0\n",
      "Bump                       0.0\n",
      "Crossing                   0.0\n",
      "Give_Way                   0.0\n",
      "Junction                   0.0\n",
      "No_Exit                    0.0\n",
      "Railway                    0.0\n",
      "Roundabout                 0.0\n",
      "Station                    0.0\n",
      "Stop                       0.0\n",
      "Traffic_Calming            0.0\n",
      "Traffic_Signal             0.0\n",
      "Turning_Loop               0.0\n",
      "Sunrise_Sunset             0.0\n",
      "Civil_Twilight             0.0\n",
      "Nautical_Twilight          0.0\n",
      "Astronomical_Twilight      0.0\n",
      "dtype: float64\n",
      "\n",
      "Columns with more than 5% missing values:\n",
      "End_Lat              100.0\n",
      "End_Lng              100.0\n",
      "Wind_Chill(F)         10.0\n",
      "Wind_Speed(mph)        6.0\n",
      "Precipitation(in)     44.0\n",
      "dtype: float64\n"
     ]
    }
   ],
   "source": [
    "# 2nd Question:Calculate the percentage of missing values in each column and list columns with more than 5% missing data.\n",
    "col=df_sample.columns.tolist()\n",
    "total_missing_values = df_sample.isna().sum()\n",
    "missing_values_percent = (total_missing_values / len(df_sample)) * 100\n",
    "print(\"Percentage of missing values per column:\")\n",
    "print(missing_values_percent)\n",
    "cols_with_missing = missing_values_percent[missing_values_percent > 5]\n",
    "print(\"\\nColumns with more than 5% missing values:\")\n",
    "print(cols_with_missing)\n"
   ]
  },
  {
   "cell_type": "code",
   "execution_count": 18,
   "id": "878c2727",
   "metadata": {},
   "outputs": [
    {
     "name": "stdout",
     "output_type": "stream",
     "text": [
      "Earliest accident start time: 2016-02-08 05:46:00\n",
      "Latest accident start time: 2016-02-11 08:13:24\n"
     ]
    }
   ],
   "source": [
    "# 3rd Question:Convert Start_Time and End_Time columns to datetime objects. Find the range (earliest and latest) of accident start times in the dataset.\n",
    "df_sample[\"Start_Time\"] = pd.to_datetime(df_sample[\"Start_Time\"], errors=\"coerce\")\n",
    "df_sample[\"End_Time\"]   = pd.to_datetime(df_sample[\"End_Time\"], errors=\"coerce\")\n",
    "earliest_start = df_sample[\"Start_Time\"].min()\n",
    "latest_start   = df_sample[\"Start_Time\"].max()\n",
    "print(\"Earliest accident start time:\", earliest_start)\n",
    "print(\"Latest accident start time:\", latest_start)\n"
   ]
  },
  {
   "cell_type": "code",
   "execution_count": 20,
   "id": "2f80737d",
   "metadata": {},
   "outputs": [
    {
     "name": "stdout",
     "output_type": "stream",
     "text": [
      "Number of duplicate records: 0\n"
     ]
    }
   ],
   "source": [
    "# 4th Question:Identify any duplicate records in the dataset based on all columns. How many duplicates exist and how will you handle them?\n",
    "duplicates = df_sample[df_sample.duplicated()]\n",
    "num_duplicates = df_sample.duplicated().sum()\n",
    "print(\"Number of duplicate records:\", num_duplicates)\n",
    "df_cleaned = df_sample.drop_duplicates()\n"
   ]
  },
  {
   "cell_type": "code",
   "execution_count": 21,
   "id": "24b02b9f",
   "metadata": {},
   "outputs": [
    {
     "name": "stdout",
     "output_type": "stream",
     "text": [
      "Percentage of accidents by severity:\n",
      "Severity\n",
      "2    61.0\n",
      "3    39.0\n",
      "Name: count, dtype: float64\n"
     ]
    }
   ],
   "source": [
    "severity_counts = df_sample[\"Severity\"].value_counts()\n",
    "severity_percent = (severity_counts / len(df_sample)) * 100\n",
    "print(\"Percentage of accidents by severity:\")\n",
    "print(severity_percent)"
   ]
  },
  {
   "cell_type": "code",
   "execution_count": 25,
   "id": "4b13f896",
   "metadata": {},
   "outputs": [
    {
     "data": {
      "image/png": "[encoded data removed]",
      "text/plain": [
       "<Figure size 600x600 with 1 Axes>"
      ]
     },
     "metadata": {},
     "output_type": "display_data"
    }
   ],
   "source": [
    "import matplotlib.pyplot as plt\n",
    "plt.figure(figsize=(6,6))\n",
    "plt.pie(severity_percent, \n",
    "        labels=severity_percent.index, \n",
    "        autopct='%1.1f%%', \n",
    "        startangle=90, \n",
    "        shadow=True)\n",
    "plt.title(\"Distribution of Accident Severity Levels\")\n",
    "plt.show()"
   ]
  }
 ],
 "metadata": {
  "kernelspec": {
   "display_name": "Python 3",
   "language": "python",
   "name": "python3"
  },
  "language_info": {
   "codemirror_mode": {
    "name": "ipython",
    "version": 3
   },
   "file_extension": ".py",
   "mimetype": "text/x-python",
   "name": "python",
   "nbconvert_exporter": "python",
   "pygments_lexer": "ipython3",
   "version": "3.13.5"
  }
 },
 "nbformat": 4,
 "nbformat_minor": 5
}
