{
 "cells": [
  {
   "cell_type": "markdown",
   "id": "2fa9dc22",
   "metadata": {},
   "source": [
    "### Assignment-02"
   ]
  },
  {
   "cell_type": "markdown",
   "id": "35410eea",
   "metadata": {},
   "source": [
    "1. What is the distribution of accident severity levels?"
   ]
  },
  {
   "cell_type": "code",
   "execution_count": null,
   "id": "0f49a05d",
   "metadata": {},
   "outputs": [],
   "source": []
  },
  {
   "cell_type": "markdown",
   "id": "61b3c3f1",
   "metadata": {},
   "source": [
    "2. How is the accident frequency distributed by hour of the day?"
   ]
  },
  {
   "cell_type": "code",
   "execution_count": null,
   "id": "8a561570",
   "metadata": {},
   "outputs": [],
   "source": []
  },
  {
   "cell_type": "markdown",
   "id": "a9399ad2",
   "metadata": {},
   "source": [
    "3. Which days of the week have the highest number of accidents?"
   ]
  },
  {
   "cell_type": "code",
   "execution_count": null,
   "id": "cf3c014d",
   "metadata": {},
   "outputs": [],
   "source": []
  },
  {
   "cell_type": "markdown",
   "id": "15063162",
   "metadata": {},
   "source": [
    "4. What are the most common weather conditions during accidents?"
   ]
  },
  {
   "cell_type": "code",
   "execution_count": null,
   "id": "f51dea19",
   "metadata": {},
   "outputs": [],
   "source": []
  },
  {
   "cell_type": "markdown",
   "id": "f0adb452",
   "metadata": {},
   "source": [
    "5. How to identify columns with missing data and their missing percentage?"
   ]
  },
  {
   "cell_type": "code",
   "execution_count": null,
   "id": "dd1a733c",
   "metadata": {},
   "outputs": [],
   "source": []
  },
  {
   "cell_type": "markdown",
   "id": "856274e5",
   "metadata": {},
   "source": [
    "6. How to impute missing numerical values with median?"
   ]
  },
  {
   "cell_type": "code",
   "execution_count": null,
   "id": "36247d8b",
   "metadata": {},
   "outputs": [],
   "source": []
  },
  {
   "cell_type": "markdown",
   "id": "ec23d938",
   "metadata": {},
   "source": [
    "7. How to impute missing categorical values with the mode?"
   ]
  },
  {
   "cell_type": "code",
   "execution_count": null,
   "id": "7fe64774",
   "metadata": {},
   "outputs": [],
   "source": []
  },
  {
   "cell_type": "markdown",
   "id": "d5c5fba8",
   "metadata": {},
   "source": [
    "8. How to label encode a categorical column?"
   ]
  },
  {
   "cell_type": "code",
   "execution_count": null,
   "id": "97eb7b2c",
   "metadata": {},
   "outputs": [],
   "source": []
  },
  {
   "cell_type": "markdown",
   "id": "dc01b004",
   "metadata": {},
   "source": [
    "9. How to one-hot encode a categorical column?"
   ]
  },
  {
   "cell_type": "code",
   "execution_count": null,
   "id": "8aa1d9a1",
   "metadata": {},
   "outputs": [],
   "source": []
  }
 ],
 "metadata": {
  "kernelspec": {
   "display_name": "Python 3",
   "language": "python",
   "name": "python3"
  },
  "language_info": {
   "name": "python",
   "version": "3.11.9"
  }
 },
 "nbformat": 4,
 "nbformat_minor": 5
}
