{
 "cells": [
  {
   "cell_type": "markdown",
   "id": "5bd38609",
   "metadata": {},
   "source": [
    "### 1. Handling Missing Values\n",
    "**Definition:**\n",
    "\n",
    "Missing values in a dataset are entries for which no data was recorded. They can arise due to various reasons (sensor failure, skipped fields, data corruption, etc.).\n",
    "\n",
    "- Why handle them?\n",
    "\n",
    "  - Many ML algorithms can't process missing values directly.\n",
    "\n",
    "  - They can bias or distort analysis if not treated properly.\n",
    "\n",
    "  - Clean data ensures more reliable, interpretable insights."
   ]
  },
  {
   "cell_type": "markdown",
   "id": "b3ae5cf9",
   "metadata": {},
   "source": [
    "### 2. Dropping and Imputing Columns/Rows with Missing Data\n",
    "\n",
    "**Definition:**\n",
    "\n",
    "Dropping removes columns or rows entirely if they're considered uninformative or too incomplete to fix.\n",
    "\n",
    "- When to drop?\n",
    "\n",
    "  - If a column has too many missing values (e.g., >30%).\n",
    "\n",
    "  - If a row is missing crucial data and cannot be imputed reasonably.\n",
    "\n",
    "Code Example:"
   ]
  },
  {
   "cell_type": "code",
   "execution_count": 1,
   "id": "91b051d7",
   "metadata": {},
   "outputs": [
    {
     "name": "stdout",
     "output_type": "stream",
     "text": [
      "Original DataFrame:\n",
      "      A    B    C\n",
      "0  1.0  NaN  1.0\n",
      "1  NaN  NaN  2.0\n",
      "2  3.0  NaN  3.0\n",
      "3  4.0  4.0  NaN\n",
      "4  5.0  5.0  5.0\n",
      "\n",
      "After dropping rows with any missing values:\n",
      "      A    B    C\n",
      "4  5.0  5.0  5.0\n",
      "\n",
      "After dropping columns with any missing values:\n",
      " Empty DataFrame\n",
      "Columns: []\n",
      "Index: [0, 1, 2, 3, 4]\n",
      "\n",
      "After dropping columns with >50% missing values:\n",
      "      A    C\n",
      "0  1.0  1.0\n",
      "1  NaN  2.0\n",
      "2  3.0  3.0\n",
      "3  4.0  NaN\n",
      "4  5.0  5.0\n"
     ]
    }
   ],
   "source": [
    "import pandas as pd\n",
    "import numpy as np\n",
    "\n",
    "# Example DataFrame\n",
    "data = {\n",
    "    'A': [1, np.nan, 3, 4, 5],\n",
    "    'B': [np.nan, np.nan, np.nan, 4, 5],\n",
    "    'C': [1, 2, 3, np.nan, 5]\n",
    "}\n",
    "df = pd.DataFrame(data)\n",
    "print(\"Original DataFrame:\\n\", df)\n",
    "\n",
    "# Drop rows with ANY missing values\n",
    "df_drop_rows = df.dropna(axis=0)\n",
    "print(\"\\nAfter dropping rows with any missing values:\\n\", df_drop_rows)\n",
    "\n",
    "# Drop columns with ANY missing values\n",
    "df_drop_cols = df.dropna(axis=1)\n",
    "print(\"\\nAfter dropping columns with any missing values:\\n\", df_drop_cols)\n",
    "\n",
    "# Drop columns with more than a threshold (e.g., 50%) missing values\n",
    "threshold = 0.5 * len(df)\n",
    "df_drop_threshold = df.dropna(axis=1, thresh=threshold)\n",
    "print(\"\\nAfter dropping columns with >50% missing values:\\n\", df_drop_threshold)\n"
   ]
  },
  {
   "cell_type": "markdown",
   "id": "775ac6d8",
   "metadata": {},
   "source": [
    "### 2.2 Imputing (Filling) Missing Values\n",
    "**Definition:**\n",
    "\n",
    "Imputation replaces missing values with substituted values based on various strategies.\n",
    "\n",
    "- When to impute?\n",
    "\n",
    "  - When the column is important for analysis.\n",
    "\n",
    "  - When the missingness is not substantial, and values can be plausibly estimated.\n",
    "\n",
    "Possible Imputation Techniques & Code Examples:"
   ]
  },
  {
   "cell_type": "markdown",
   "id": "e3b44dd3",
   "metadata": {},
   "source": [
    "a) Fill with a Constant (e.g., 0, \"unknown\")"
   ]
  },
  {
   "cell_type": "code",
   "execution_count": null,
   "id": "1e3a4e4d",
   "metadata": {},
   "outputs": [
    {
     "name": "stdout",
     "output_type": "stream",
     "text": [
      "\n",
      "Fill missing values with 0:\n",
      "      A    B    C\n",
      "0  1.0  0.0  1.0\n",
      "1  0.0  0.0  2.0\n",
      "2  3.0  0.0  3.0\n",
      "3  4.0  4.0  0.0\n",
      "4  5.0  5.0  5.0\n"
     ]
    }
   ],
   "source": [
    "\n",
    "df_constant = df.fillna(0)\n",
    "print(\"\\nFill missing values with 0:\\n\", df_constant)"
   ]
  },
  {
   "cell_type": "markdown",
   "id": "0f8ca6ae",
   "metadata": {},
   "source": [
    "b) Fill with Mean / Median / Mode"
   ]
  },
  {
   "cell_type": "code",
   "execution_count": null,
   "id": "69bfc98c",
   "metadata": {},
   "outputs": [
    {
     "name": "stdout",
     "output_type": "stream",
     "text": [
      "\n",
      "Fill numerical columns with mean:\n",
      "       A    B     C\n",
      "0  1.00  4.5  1.00\n",
      "1  3.25  4.5  2.00\n",
      "2  3.00  4.5  3.00\n",
      "3  4.00  4.0  2.75\n",
      "4  5.00  5.0  5.00\n",
      "\n",
      "Fill numerical columns with median:\n",
      "      A    B    C\n",
      "0  1.0  4.5  1.0\n",
      "1  3.5  4.5  2.0\n",
      "2  3.0  4.5  3.0\n",
      "3  4.0  4.0  2.5\n",
      "4  5.0  5.0  5.0\n",
      "\n",
      "Fill categorical columns with mode:\n",
      "      A    B    C\n",
      "0  1.0  NaN  1.0\n",
      "1  NaN  NaN  2.0\n",
      "2  3.0  NaN  3.0\n",
      "3  4.0  4.0  NaN\n",
      "4  5.0  5.0  5.0\n"
     ]
    }
   ],
   "source": [
    "# Fill numerical columns with mean\n",
    "df_mean = df.fillna(df.mean(numeric_only=True))\n",
    "print(\"\\nFill numerical columns with mean:\\n\", df_mean)\n",
    "\n",
    "# Fill numerical columns with median\n",
    "df_median = df.fillna(df.median(numeric_only=True))\n",
    "print(\"\\nFill numerical columns with median:\\n\", df_median)\n",
    "\n",
    "# Fill categorical columns with mode\n",
    "df_mode = df.apply(lambda x: x.fillna(x.mode()[0]) if x.dtype=='O' else x)\n",
    "print(\"\\nFill categorical columns with mode:\\n\", df_mode)\n"
   ]
  },
  {
   "cell_type": "markdown",
   "id": "43463284",
   "metadata": {},
   "source": [
    "c) Forward Fill / Backward Fill (for time series or panel data)"
   ]
  },
  {
   "cell_type": "code",
   "execution_count": null,
   "id": "10c8aa63",
   "metadata": {},
   "outputs": [
    {
     "name": "stdout",
     "output_type": "stream",
     "text": [
      "\n",
      "Forward fill missing values:\n",
      "      A    B    C\n",
      "0  1.0  NaN  1.0\n",
      "1  1.0  NaN  2.0\n",
      "2  3.0  NaN  3.0\n",
      "3  4.0  4.0  3.0\n",
      "4  5.0  5.0  5.0\n",
      "\n",
      "Backward fill missing values:\n",
      "      A    B    C\n",
      "0  1.0  4.0  1.0\n",
      "1  3.0  4.0  2.0\n",
      "2  3.0  4.0  3.0\n",
      "3  4.0  4.0  5.0\n",
      "4  5.0  5.0  5.0\n"
     ]
    },
    {
     "name": "stderr",
     "output_type": "stream",
     "text": [
      "C:\\Users\\win10\\AppData\\Local\\Temp\\ipykernel_11088\\3578715230.py:2: FutureWarning: DataFrame.fillna with 'method' is deprecated and will raise in a future version. Use obj.ffill() or obj.bfill() instead.\n",
      "  df_ffill = df.fillna(method='ffill')\n",
      "C:\\Users\\win10\\AppData\\Local\\Temp\\ipykernel_11088\\3578715230.py:5: FutureWarning: DataFrame.fillna with 'method' is deprecated and will raise in a future version. Use obj.ffill() or obj.bfill() instead.\n",
      "  df_bfill = df.fillna(method='bfill')\n"
     ]
    }
   ],
   "source": [
    "df_ffill = df.fillna(method='ffill')\n",
    "print(\"\\nForward fill missing values:\\n\", df_ffill)\n",
    "\n",
    "df_bfill = df.fillna(method='bfill')\n",
    "print(\"\\nBackward fill missing values:\\n\", df_bfill)\n"
   ]
  },
  {
   "cell_type": "markdown",
   "id": "96289efd",
   "metadata": {},
   "source": [
    "d) Advanced: KNN Imputer / Iterative Imputer (for large projects)"
   ]
  },
  {
   "cell_type": "code",
   "execution_count": null,
   "id": "5591ed3c",
   "metadata": {},
   "outputs": [
    {
     "name": "stdout",
     "output_type": "stream",
     "text": [
      "\n",
      "KNN Imputed DataFrame:\n",
      "      A    B    C\n",
      "0  1.0  4.5  1.0\n",
      "1  2.0  5.0  2.0\n",
      "2  3.0  4.5  3.0\n",
      "3  4.0  4.0  4.0\n",
      "4  5.0  5.0  5.0\n"
     ]
    }
   ],
   "source": [
    "from sklearn.impute import KNNImputer\n",
    "\n",
    "knn_imputer = KNNImputer(n_neighbors=2)\n",
    "df_knn = pd.DataFrame(knn_imputer.fit_transform(df), columns=df.columns)\n",
    "print(\"\\nKNN Imputed DataFrame:\\n\", df_knn)"
   ]
  },
  {
   "cell_type": "markdown",
   "id": "51ede1ac",
   "metadata": {},
   "source": [
    "### 3. Choosing the Best Approach\n",
    "**Guidelines:**\n",
    "\n",
    "  - Drop columns if lots of information is missing (>30–50%), but consider domain importance.\n",
    "\n",
    "  - Impute when missingness is moderate, using domain knowledge to choose the technique.\n",
    "\n",
    "  - Use mean/median for numeric, mode for categorical, and advanced methods for critical variables."
   ]
  },
  {
   "cell_type": "code",
   "execution_count": 6,
   "id": "80a3ced7",
   "metadata": {},
   "outputs": [
    {
     "name": "stdout",
     "output_type": "stream",
     "text": [
      "Original Dummy Dataset with Missing Values:\n",
      "    Age   Salary         City Purchased\n",
      "0  25.0  50000.0     New York       Yes\n",
      "1   NaN  60000.0  Los Angeles        No\n",
      "2  30.0      NaN     New York       NaN\n",
      "3  22.0  52000.0          NaN        No\n",
      "4  40.0  58000.0      Chicago       Yes\n",
      "5   NaN  62000.0      Chicago       Yes\n",
      "6  28.0      NaN  Los Angeles        No\n",
      "\n",
      "Dummy Dataset After Imputation:\n",
      "    Age   Salary         City Purchased\n",
      "0  25.0  50000.0     New York       Yes\n",
      "1  29.0  60000.0  Los Angeles        No\n",
      "2  30.0  58000.0     New York        No\n",
      "3  22.0  52000.0      Chicago        No\n",
      "4  40.0  58000.0      Chicago       Yes\n",
      "5  29.0  62000.0      Chicago       Yes\n",
      "6  28.0  58000.0  Los Angeles        No\n"
     ]
    }
   ],
   "source": [
    "import pandas as pd\n",
    "import numpy as np\n",
    "from sklearn.impute import KNNImputer\n",
    "\n",
    "# Create a dummy dataset with missing values\n",
    "data = {\n",
    "    'Age': [25, np.nan, 30, 22, 40, np.nan, 28],\n",
    "    'Salary': [50000, 60000, np.nan, 52000, 58000, 62000, np.nan],\n",
    "    'City': ['New York', 'Los Angeles', 'New York', np.nan, 'Chicago', 'Chicago', 'Los Angeles'],\n",
    "    'Purchased': ['Yes', 'No', np.nan, 'No', 'Yes', 'Yes', 'No']\n",
    "}\n",
    "\n",
    "df_dummy = pd.DataFrame(data)\n",
    "print(\"Original Dummy Dataset with Missing Values:\")\n",
    "print(df_dummy)\n",
    "\n",
    "# Assignment Tasks (interns should attempt):\n",
    "# 1. Drop columns or rows with excessive missing values.\n",
    "# 2. Impute missing numerical columns (Age, Salary) with mean or median.\n",
    "# 3. Impute missing categorical columns (City, Purchased) with mode.\n",
    "# 4. Optionally, apply KNN imputation for numerical columns.\n",
    "\n",
    "# Example imputation with mean and mode:\n",
    "df_imputed = df_dummy.copy()\n",
    "df_imputed['Age'] = df_imputed['Age'].fillna(df_imputed['Age'].mean())\n",
    "df_imputed['Salary'] = df_imputed['Salary'].fillna(df_imputed['Salary'].median())\n",
    "df_imputed['City'] = df_imputed['City'].fillna(df_imputed['City'].mode()[0])\n",
    "df_imputed['Purchased'] = df_imputed['Purchased'].fillna(df_imputed['Purchased'].mode()[0])\n",
    "\n",
    "print(\"\\nDummy Dataset After Imputation:\")\n",
    "print(df_imputed)\n"
   ]
  }
 ],
 "metadata": {
  "kernelspec": {
   "display_name": "Python 3",
   "language": "python",
   "name": "python3"
  },
  "language_info": {
   "codemirror_mode": {
    "name": "ipython",
    "version": 3
   },
   "file_extension": ".py",
   "mimetype": "text/x-python",
   "name": "python",
   "nbconvert_exporter": "python",
   "pygments_lexer": "ipython3",
   "version": "3.11.9"
  }
 },
 "nbformat": 4,
 "nbformat_minor": 5
}
