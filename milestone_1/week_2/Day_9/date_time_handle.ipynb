{
 "cells": [
  {
   "cell_type": "markdown",
   "id": "09e73548",
   "metadata": {},
   "source": [
    "### Date & Time Handling"
   ]
  },
  {
   "cell_type": "code",
   "execution_count": null,
   "id": "630e3934",
   "metadata": {},
   "outputs": [
    {
     "name": "stdout",
     "output_type": "stream",
     "text": [
      "Initial dataset with date column as string:\n",
      "   accident_id    date_str  severity\n",
      "0            1  2023-01-07         1\n",
      "1            2  2023-01-04         2\n",
      "2            3  2023-01-08         4\n",
      "3            4  2023-01-05         4\n",
      "4            5  2023-01-07         2\n"
     ]
    }
   ],
   "source": [
    "import pandas as pd\n",
    "import numpy as np\n",
    "\n",
    "# Create synthetic dataset with string datetime values\n",
    "np.random.seed(42)\n",
    "dates = pd.date_range(start='2023-01-01', periods=10, freq='D').astype(str)  # 10 days\n",
    "random_dates = np.random.choice(dates, size=15)  # 15 records with some repeats\n",
    "\n",
    "# Create DataFrame with string datetime column and a feature\n",
    "df = pd.DataFrame({\n",
    "    'accident_id': range(1, 16),\n",
    "    'date_str': random_dates,\n",
    "    'severity': np.random.randint(1, 5, size=15)  # severity levels 1 to 4\n",
    "})\n",
    "\n",
    "# Show initial dataset\n",
    "print(\"Initial dataset with date column as string:\")\n",
    "print(df.head())"
   ]
  },
  {
   "cell_type": "code",
   "execution_count": 2,
   "id": "993b74b1",
   "metadata": {},
   "outputs": [
    {
     "name": "stdout",
     "output_type": "stream",
     "text": [
      "\n",
      "Dataset with extracted datetime features:\n",
      "   accident_id    date_str  severity       date  hour    weekday    month\n",
      "0            1  2023-01-07         1 2023-01-07     0   Saturday  January\n",
      "1            2  2023-01-04         2 2023-01-04     0  Wednesday  January\n",
      "2            3  2023-01-08         4 2023-01-08     0     Sunday  January\n",
      "3            4  2023-01-05         4 2023-01-05     0   Thursday  January\n",
      "4            5  2023-01-07         2 2023-01-07     0   Saturday  January\n"
     ]
    }
   ],
   "source": [
    "# Convert string column to datetime type\n",
    "df['date'] = pd.to_datetime(df['date_str'])\n",
    "\n",
    "# Extract datetime features\n",
    "df['hour'] = df['date'].dt.hour         # hour of day (0 since no time in data)\n",
    "df['weekday'] = df['date'].dt.day_name()  # day of week name\n",
    "df['month'] = df['date'].dt.month_name()  # month name\n",
    "\n",
    "print(\"\\nDataset with extracted datetime features:\")\n",
    "print(df.head())\n"
   ]
  },
  {
   "cell_type": "code",
   "execution_count": 3,
   "id": "f6baf739",
   "metadata": {},
   "outputs": [
    {
     "name": "stdout",
     "output_type": "stream",
     "text": [
      "\n",
      "Dataset with missing datetime values (NaT):\n",
      "   accident_id    date_str  severity date  hour    weekday    month\n",
      "1            2  2023-01-04         2  NaT     0  Wednesday  January\n",
      "5            6  2023-01-10         2  NaT     0    Tuesday  January\n",
      "\n",
      "Dataset after filling missing datetime values (forward fill):\n",
      "   accident_id    date_str  severity date  hour    weekday    month  \\\n",
      "1            2  2023-01-04         2  NaT     0  Wednesday  January   \n",
      "5            6  2023-01-10         2  NaT     0    Tuesday  January   \n",
      "\n",
      "  date_filled  \n",
      "1  2023-01-07  \n",
      "5  2023-01-07  \n"
     ]
    },
    {
     "name": "stderr",
     "output_type": "stream",
     "text": [
      "C:\\Users\\win10\\AppData\\Local\\Temp\\ipykernel_21760\\695673663.py:9: FutureWarning: Series.fillna with 'method' is deprecated and will raise in a future version. Use obj.ffill() or obj.bfill() instead.\n",
      "  df['date_filled'] = df['date'].fillna(method='ffill')\n"
     ]
    }
   ],
   "source": [
    "# Handling missing datetime values: introduce NaT (missing) for demonstration\n",
    "nan_indices = np.random.choice(df.index, size=2, replace=False)\n",
    "df.loc[nan_indices, 'date'] = pd.NaT\n",
    "\n",
    "print(\"\\nDataset with missing datetime values (NaT):\")\n",
    "print(df.loc[nan_indices])\n",
    "\n",
    "# Fill missing datetime values using forward fill method\n",
    "df['date_filled'] = df['date'].fillna(method='ffill')\n",
    "\n",
    "print(\"\\nDataset after filling missing datetime values (forward fill):\")\n",
    "print(df.loc[nan_indices])\n"
   ]
  },
  {
   "cell_type": "code",
   "execution_count": 4,
   "id": "092aa9eb",
   "metadata": {},
   "outputs": [
    {
     "name": "stdout",
     "output_type": "stream",
     "text": [
      "\n",
      "Rows after dropping missing datetime:\n",
      "   accident_id    date_str  severity       date  hour   weekday    month  \\\n",
      "0            1  2023-01-07         1 2023-01-07     0  Saturday  January   \n",
      "2            3  2023-01-08         4 2023-01-08     0    Sunday  January   \n",
      "3            4  2023-01-05         4 2023-01-05     0  Thursday  January   \n",
      "4            5  2023-01-07         2 2023-01-07     0  Saturday  January   \n",
      "6            7  2023-01-03         2 2023-01-03     0   Tuesday  January   \n",
      "\n",
      "  date_filled  \n",
      "0  2023-01-07  \n",
      "2  2023-01-08  \n",
      "3  2023-01-05  \n",
      "4  2023-01-07  \n",
      "6  2023-01-03  \n",
      "\n",
      "Rows with date after 2023-01-05:\n",
      "   accident_id    date_str  severity       date  hour   weekday    month  \\\n",
      "0            1  2023-01-07         1 2023-01-07     0  Saturday  January   \n",
      "2            3  2023-01-08         4 2023-01-08     0    Sunday  January   \n",
      "4            5  2023-01-07         2 2023-01-07     0  Saturday  January   \n",
      "7            8  2023-01-07         4 2023-01-07     0  Saturday  January   \n",
      "8            9  2023-01-08         4 2023-01-08     0    Sunday  January   \n",
      "\n",
      "  date_filled  \n",
      "0  2023-01-07  \n",
      "2  2023-01-08  \n",
      "4  2023-01-07  \n",
      "7  2023-01-07  \n",
      "8  2023-01-08  \n"
     ]
    }
   ],
   "source": [
    "# Additional datetime handling examples:\n",
    "\n",
    "# Drop rows with missing datetime values\n",
    "df_dropped = df.dropna(subset=['date'])\n",
    "\n",
    "# Filter rows where date is after a specific datetime\n",
    "filtered_df = df[df['date'] > pd.Timestamp('2023-01-05')]\n",
    "\n",
    "print(\"\\nRows after dropping missing datetime:\")\n",
    "print(df_dropped.head())\n",
    "\n",
    "print(\"\\nRows with date after 2023-01-05:\")\n",
    "print(filtered_df.head())\n"
   ]
  }
 ],
 "metadata": {
  "kernelspec": {
   "display_name": "Python 3",
   "language": "python",
   "name": "python3"
  },
  "language_info": {
   "codemirror_mode": {
    "name": "ipython",
    "version": 3
   },
   "file_extension": ".py",
   "mimetype": "text/x-python",
   "name": "python",
   "nbconvert_exporter": "python",
   "pygments_lexer": "ipython3",
   "version": "3.11.9"
  }
 },
 "nbformat": 4,
 "nbformat_minor": 5
}
